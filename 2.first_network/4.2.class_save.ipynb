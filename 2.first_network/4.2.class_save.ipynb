{
 "cells": [
  {
   "cell_type": "code",
   "execution_count": 1,
   "metadata": {},
   "outputs": [],
   "source": [
    "import torch\n",
    "import matplotlib.pyplot as plt"
   ]
  },
  {
   "cell_type": "code",
   "execution_count": 2,
   "metadata": {},
   "outputs": [],
   "source": [
    "# 网络结构有两种方式，逐步探索\n",
    "\n",
    "# 构建数据\n",
    "torch.manual_seed(1)\n",
    "\n",
    "# 假数据\n",
    "x = torch.unsqueeze(torch.linspace(-1,1,100),dim=1)\n",
    "y = x.pow(2) + 0.2 * torch.rand(x.size())"
   ]
  },
  {
   "cell_type": "code",
   "execution_count": 3,
   "metadata": {},
   "outputs": [],
   "source": [
    "class Net(torch.nn.Module):\n",
    "    def __init__(self,n_feature,n_hidden,n_output):\n",
    "        super(Net,self).__init__()\n",
    "        self.hidden = torch.nn.Linear(n_feature,n_hidden)\n",
    "        self.predict = torch.nn.Linear(n_hidden,n_output)\n",
    "        \n",
    "    def forward(self,x):\n",
    "        x = torch.relu(self.hidden(x))\n",
    "        x = self.predict(x)\n",
    "        return x"
   ]
  },
  {
   "cell_type": "code",
   "execution_count": 4,
   "metadata": {},
   "outputs": [
    {
     "name": "stdout",
     "output_type": "stream",
     "text": [
      "model state dict\n",
      "hidden.weight \t torch.Size([10, 1])\n",
      "hidden.bias \t torch.Size([10])\n",
      "predict.weight \t torch.Size([1, 10])\n",
      "predict.bias \t torch.Size([1])\n",
      "optimizer state dict\n",
      "state \t {}\n",
      "param_groups \t [{'lr': 0.01, 'momentum': 0.9, 'dampening': 0, 'weight_decay': 0, 'nesterov': False, 'params': [140350313583384, 140350313583528, 140350313583600, 140350313583672]}]\n"
     ]
    }
   ],
   "source": [
    "model = Net(1,10,1)\n",
    "\n",
    "optimizer = torch.optim.SGD(model.parameters(),lr=0.01,momentum=0.9)\n",
    "\n",
    "print('model state dict')\n",
    "for param_tensor in model.state_dict():\n",
    "    print(param_tensor ,'\\t',model.state_dict()[param_tensor].size())\n",
    "    \n",
    "print('optimizer state dict')\n",
    "for var_name in optimizer.state_dict():\n",
    "    print(var_name ,'\\t',optimizer.state_dict()[var_name])"
   ]
  },
  {
   "cell_type": "code",
   "execution_count": 5,
   "metadata": {},
   "outputs": [],
   "source": [
    "# 使用Sequential 构建网络结构\n",
    "def save():\n",
    "    model_1 = Net(1,10,1)\n",
    "\n",
    "    optimizer = torch.optim.SGD(model_1.parameters(),lr=0.01,momentum=0.9)\n",
    "    loss_func = torch.nn.MSELoss()\n",
    "    \n",
    "    # 训练\n",
    "    for t in range(100):\n",
    "        prediction = model_1(x)\n",
    "        loss = loss_func(prediction,y)\n",
    "        optimizer.zero_grad()\n",
    "        loss.backward()\n",
    "        optimizer.step()\n",
    "        \n",
    "    # plot result\n",
    "    plt.figure(1,figsize=(10,3))\n",
    "    plt.subplot(131)\n",
    "    plt.title('model_1')\n",
    "    plt.scatter(x.data.numpy(),y.data.numpy())\n",
    "    plt.plot(x.data.numpy(),prediction.data.numpy(),'r-',lw=5)\n",
    "    \n",
    "    # 有两种途径保存模型\n",
    "    # 1.保存整个网络\n",
    "    torch.save(model_1,'./model/class_net.pkl')\n",
    "    # 2.只保存网络中的参数\n",
    "    torch.save(model_1.state_dict(),'./model/class_net_parameters.pkl')"
   ]
  },
  {
   "cell_type": "code",
   "execution_count": 6,
   "metadata": {},
   "outputs": [],
   "source": [
    "# 恢复整个网络\n",
    "def restore_net():\n",
    "    model_2 = torch.load('./model/class_net.pkl')\n",
    "    model_2.eval()\n",
    "    prediction = model_2(x)\n",
    "    \n",
    "    # plot result\n",
    "    plt.subplot(132)\n",
    "    plt.title('model_2')\n",
    "    plt.scatter(x.data.numpy(),y.data.numpy())\n",
    "    plt.plot(x.data.numpy(),prediction.data.numpy(),'r-',lw=5)"
   ]
  },
  {
   "cell_type": "code",
   "execution_count": 7,
   "metadata": {},
   "outputs": [],
   "source": [
    "# 恢复网络参数\n",
    "def restore_parameters():  \n",
    "    model_3 = Net(1,10,1)\n",
    "\n",
    "    # copy net1 parameters to net3\n",
    "    model_3.load_state_dict(torch.load('./model/class_net_parameters.pkl'))\n",
    "    model_3.eval()\n",
    "    prediction = model_3(x)\n",
    "    \n",
    "    # plot result\n",
    "    plt.subplot(133)\n",
    "    plt.title('model_3')\n",
    "    plt.scatter(x.data.numpy(),y.data.numpy())\n",
    "    plt.plot(x.data.numpy(),prediction.data.numpy(),'r-',lw=5)\n",
    "    plt.show()"
   ]
  },
  {
   "cell_type": "code",
   "execution_count": 8,
   "metadata": {},
   "outputs": [
    {
     "name": "stderr",
     "output_type": "stream",
     "text": [
      "/home/fengjiaxin/fengjiaxin/anaconda3/envs/my-rdkit-env/lib/python3.6/site-packages/torch/serialization.py:256: UserWarning: Couldn't retrieve source code for container of type Net. It won't be checked for correctness upon loading.\n",
      "  \"type \" + obj.__name__ + \". It won't be checked \"\n"
     ]
    },
    {
     "data": {
      "image/png": "[encoded data removed]",
      "text/plain": [
       "<Figure size 720x216 with 3 Axes>"
      ]
     },
     "metadata": {
      "needs_background": "light"
     },
     "output_type": "display_data"
    }
   ],
   "source": [
    "save()\n",
    "restore_net()\n",
    "restore_parameters()"
   ]
  },
  {
   "cell_type": "code",
   "execution_count": 9,
   "metadata": {},
   "outputs": [],
   "source": [
    "# saving and loading a general checkpoint for inference or resuming training\n",
    "def save_checkpoint():\n",
    "    model_1 = Net(1,10,1)\n",
    "    \n",
    "    optimizer = torch.optim.SGD(model_1.parameters(),lr=0.01,momentum=0.9)\n",
    "    loss_func = torch.nn.MSELoss()\n",
    "    \n",
    "    # 训练，先训练50步，然后在训练100步\n",
    "    for t in range(50):\n",
    "        prediction = model_1(x)\n",
    "        loss = loss_func(prediction,y)\n",
    "        optimizer.zero_grad()\n",
    "        loss.backward()\n",
    "        optimizer.step()\n",
    "    print('epoch 50: %.4f'%loss)     \n",
    "    # plot result\n",
    "    plt.figure(1,figsize=(10,3))\n",
    "    plt.subplot(121)\n",
    "    plt.title('model_50')\n",
    "    plt.scatter(x.data.numpy(),y.data.numpy())\n",
    "    plt.plot(x.data.numpy(),prediction.data.numpy(),'r-',lw=5)\n",
    "    \n",
    "    # 保存训练的所有信息\n",
    "    save_dict = {'epoch':t,\n",
    "                 'model_state_dict':model_1.state_dict(),\n",
    "                 'optimizer_state_dict':optimizer.state_dict(),\n",
    "                 'loss':loss\n",
    "                }\n",
    "    torch.save(save_dict,'./model/checkpoint.pkl')    "
   ]
  },
  {
   "cell_type": "code",
   "execution_count": 10,
   "metadata": {},
   "outputs": [],
   "source": [
    "# continue train\n",
    "def continue_training():\n",
    "    model_2 = Net(1,10,1)\n",
    "    optimizer = torch.optim.SGD(model_2.parameters(),lr=0.01,momentum=0.9)\n",
    "    checkpoint = torch.load('./model/checkpoint.pkl')\n",
    "    \n",
    "    model_2.load_state_dict(checkpoint['model_state_dict'])\n",
    "    optimizer.load_state_dict(checkpoint['optimizer_state_dict'])\n",
    "    prev_epoch = checkpoint['epoch']\n",
    "    prev_loss = checkpoint['loss']\n",
    "    \n",
    "    print('prev_epoch %d'%prev_epoch)\n",
    "    print('prev_loss %.4f'%prev_loss)\n",
    "    \n",
    "    loss_func = torch.nn.MSELoss()\n",
    "    loss = prev_loss\n",
    "    \n",
    "    for epoch in range(prev_epoch+1,100):\n",
    "        prediction = model_2(x)\n",
    "        loss = loss_func(prediction,y)\n",
    "        optimizer.zero_grad()\n",
    "        loss.backward()\n",
    "        optimizer.step()\n",
    "    print('epoch 100: %.4f'%loss)     \n",
    "    # plot result\n",
    "    plt.figure(1,figsize=(10,3))\n",
    "    plt.subplot(122)\n",
    "    plt.title('model_100')\n",
    "    plt.scatter(x.data.numpy(),y.data.numpy())\n",
    "    plt.plot(x.data.numpy(),prediction.data.numpy(),'r-',lw=5)"
   ]
  },
  {
   "cell_type": "code",
   "execution_count": 11,
   "metadata": {},
   "outputs": [
    {
     "name": "stdout",
     "output_type": "stream",
     "text": [
      "epoch 50: 0.0195\n",
      "prev_epoch 49\n",
      "prev_loss 0.0195\n",
      "epoch 100: 0.0065\n"
     ]
    },
    {
     "data": {
      "image/png": "[encoded data removed]",
      "text/plain": [
       "<Figure size 720x216 with 2 Axes>"
      ]
     },
     "metadata": {
      "needs_background": "light"
     },
     "output_type": "display_data"
    }
   ],
   "source": [
    "save_checkpoint()\n",
    "continue_training()"
   ]
  },
  {
   "cell_type": "code",
   "execution_count": 12,
   "metadata": {},
   "outputs": [],
   "source": [
    "# saving and loading a general checkpoint for inference or resuming training\n",
    "def test_checkpoint():\n",
    "    model_1 = Net(1,10,1)\n",
    "\n",
    "    optimizer = torch.optim.SGD(model_1.parameters(),lr=0.01,momentum=0.9)\n",
    "    loss_func = torch.nn.MSELoss()\n",
    "\n",
    "    # 训练，先训练50步，然后在训练100步\n",
    "    for t in range(100):\n",
    "        prediction = model_1(x)\n",
    "        loss = loss_func(prediction,y)\n",
    "        optimizer.zero_grad()\n",
    "        loss.backward()\n",
    "        optimizer.step()\n",
    "    print('epoch 100: %.4f'%loss)     \n",
    "    # plot result\n",
    "    plt.figure(1,figsize=(10,3))\n",
    "    plt.subplot(121)\n",
    "    plt.title('model_100')\n",
    "    plt.scatter(x.data.numpy(),y.data.numpy())\n",
    "    plt.plot(x.data.numpy(),prediction.data.numpy(),'r-',lw=5)"
   ]
  },
  {
   "cell_type": "code",
   "execution_count": 13,
   "metadata": {},
   "outputs": [
    {
     "name": "stdout",
     "output_type": "stream",
     "text": [
      "epoch 100: 0.0172\n"
     ]
    },
    {
     "data": {
      "image/png": "[encoded data removed]",
      "text/plain": [
       "<Figure size 720x216 with 1 Axes>"
      ]
     },
     "metadata": {
      "needs_background": "light"
     },
     "output_type": "display_data"
    }
   ],
   "source": [
    "test_checkpoint()"
   ]
  }
 ],
 "metadata": {
  "kernelspec": {
   "display_name": "Python 3",
   "language": "python",
   "name": "python3"
  },
  "language_info": {
   "codemirror_mode": {
    "name": "ipython",
    "version": 3
   },
   "file_extension": ".py",
   "mimetype": "text/x-python",
   "name": "python",
   "nbconvert_exporter": "python",
   "pygments_lexer": "ipython3",
   "version": "3.6.9"
  }
 },
 "nbformat": 4,
 "nbformat_minor": 2
}
