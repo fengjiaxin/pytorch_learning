{
 "cells": [
  {
   "cell_type": "code",
   "execution_count": 1,
   "metadata": {},
   "outputs": [],
   "source": [
    "# torch 提供了一种帮助整理数据的数据结构，DataLoader,用来包装自己的数据"
   ]
  },
  {
   "cell_type": "code",
   "execution_count": 2,
   "metadata": {},
   "outputs": [
    {
     "data": {
      "text/plain": [
       "<torch._C.Generator at 0x7efde6a28d10>"
      ]
     },
     "execution_count": 2,
     "metadata": {},
     "output_type": "execute_result"
    }
   ],
   "source": [
    "import torch\n",
    "import torch.utils.data as Data\n",
    "torch.manual_seed(1)"
   ]
  },
  {
   "cell_type": "code",
   "execution_count": 3,
   "metadata": {},
   "outputs": [
    {
     "name": "stdout",
     "output_type": "stream",
     "text": [
      "tensor([ 1.,  2.,  3.,  4.,  5.,  6.,  7.,  8.,  9., 10.])\n",
      "tensor([10.,  9.,  8.,  7.,  6.,  5.,  4.,  3.,  2.,  1.])\n"
     ]
    }
   ],
   "source": [
    "BATCH_SIZE = 5\n",
    "x = torch.linspace(1,10,10)\n",
    "y = torch.linspace(10,1,10)\n",
    "print(x)\n",
    "print(y)"
   ]
  },
  {
   "cell_type": "code",
   "execution_count": 6,
   "metadata": {},
   "outputs": [],
   "source": [
    "# 先转换成torch 能识别的Dataset\n",
    "torch_dataset = Data.TensorDataset(x,y)\n",
    "\n",
    "# 把dataset 放入到 DataLoader\n",
    "loader = Data.DataLoader(\n",
    "    dataset = torch_dataset,\n",
    "    batch_size = BATCH_SIZE,\n",
    "    shuffle=True,\n",
    "    num_workers=2,\n",
    ")"
   ]
  },
  {
   "cell_type": "code",
   "execution_count": 7,
   "metadata": {},
   "outputs": [
    {
     "name": "stdout",
     "output_type": "stream",
     "text": [
      "Epoch:  0 | step:  0 | batch x:  [ 5.  7. 10.  3.  4.] | batch y:  [6. 4. 1. 8. 7.]\n",
      "Epoch:  0 | step:  1 | batch x:  [2. 1. 8. 9. 6.] | batch y:  [ 9. 10.  3.  2.  5.]\n",
      "Epoch:  1 | step:  0 | batch x:  [ 4.  6.  7. 10.  8.] | batch y:  [7. 5. 4. 1. 3.]\n",
      "Epoch:  1 | step:  1 | batch x:  [5. 3. 2. 1. 9.] | batch y:  [ 6.  8.  9. 10.  2.]\n",
      "Epoch:  2 | step:  0 | batch x:  [ 4.  2.  5.  6. 10.] | batch y:  [7. 9. 6. 5. 1.]\n",
      "Epoch:  2 | step:  1 | batch x:  [3. 9. 1. 8. 7.] | batch y:  [ 8.  2. 10.  3.  4.]\n"
     ]
    }
   ],
   "source": [
    "for epoch in range(3):\n",
    "    for step,(batch_x,batch_y) in enumerate(loader):\n",
    "        \n",
    "        # 训练\n",
    "        print('Epoch: ',epoch,'| step: ',step,'| batch x: ',\n",
    "             batch_x.numpy(),'| batch y: ',batch_y.numpy())"
   ]
  },
  {
   "cell_type": "code",
   "execution_count": 8,
   "metadata": {},
   "outputs": [
    {
     "name": "stdout",
     "output_type": "stream",
     "text": [
      "Epoch:  0 | step:  0 | batch x:  [ 4. 10.  9.  8.  7.  6.  1.  2.] | batch y:  [ 7.  1.  2.  3.  4.  5. 10.  9.]\n",
      "Epoch:  0 | step:  1 | batch x:  [5. 3.] | batch y:  [6. 8.]\n",
      "Epoch:  1 | step:  0 | batch x:  [9. 8. 4. 6. 5. 3. 7. 2.] | batch y:  [2. 3. 7. 5. 6. 8. 4. 9.]\n",
      "Epoch:  1 | step:  1 | batch x:  [10.  1.] | batch y:  [ 1. 10.]\n",
      "Epoch:  2 | step:  0 | batch x:  [ 5.  1.  3.  7.  6. 10.  9.  8.] | batch y:  [ 6. 10.  8.  4.  5.  1.  2.  3.]\n",
      "Epoch:  2 | step:  1 | batch x:  [2. 4.] | batch y:  [9. 7.]\n"
     ]
    }
   ],
   "source": [
    "BATCH_SIZE = 8\n",
    "torch_dataset = Data.TensorDataset(x,y)\n",
    "\n",
    "# 把dataset 放入到 DataLoader\n",
    "loader = Data.DataLoader(\n",
    "    dataset = torch_dataset,\n",
    "    batch_size = BATCH_SIZE,\n",
    "    shuffle=True,\n",
    "    num_workers=2,\n",
    ")\n",
    "\n",
    "for epoch in range(3):\n",
    "    for step,(batch_x,batch_y) in enumerate(loader):\n",
    "        \n",
    "        # 训练\n",
    "        print('Epoch: ',epoch,'| step: ',step,'| batch x: ',\n",
    "             batch_x.numpy(),'| batch y: ',batch_y.numpy())"
   ]
  },
  {
   "cell_type": "code",
   "execution_count": null,
   "metadata": {},
   "outputs": [],
   "source": []
  }
 ],
 "metadata": {
  "kernelspec": {
   "display_name": "Python 3",
   "language": "python",
   "name": "python3"
  },
  "language_info": {
   "codemirror_mode": {
    "name": "ipython",
    "version": 3
   },
   "file_extension": ".py",
   "mimetype": "text/x-python",
   "name": "python",
   "nbconvert_exporter": "python",
   "pygments_lexer": "ipython3",
   "version": "3.6.9"
  }
 },
 "nbformat": 4,
 "nbformat_minor": 2
}
