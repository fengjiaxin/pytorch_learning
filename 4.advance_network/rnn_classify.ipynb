{
 "cells": [
  {
   "cell_type": "code",
   "execution_count": 1,
   "metadata": {},
   "outputs": [],
   "source": [
    "# 训练数据\n",
    "import torch\n",
    "import torch.nn as nn\n",
    "import torch.utils.data as Data\n",
    "import torchvision"
   ]
  },
  {
   "cell_type": "code",
   "execution_count": 23,
   "metadata": {},
   "outputs": [],
   "source": [
    "# 超参数\n",
    "EPOCH = 2\n",
    "BATCH_SIZE = 64\n",
    "LR = 0.005\n",
    "TIME_STEP = 28\n",
    "INPUT_SIZE = 28\n",
    "HIDDEN_SIZE = 64\n",
    "DOWNLOAD_MNIST = True\n",
    "\n",
    "train_data = torchvision.datasets.MNIST(\n",
    "    root = './mnist/',\n",
    "    train = True,\n",
    "    transform = torchvision.transforms.ToTensor(),\n",
    "    download=DOWNLOAD_MNIST\n",
    ")"
   ]
  },
  {
   "cell_type": "code",
   "execution_count": 25,
   "metadata": {},
   "outputs": [
    {
     "name": "stdout",
     "output_type": "stream",
     "text": [
      "train_data.size(): torch.Size([60000, 28, 28])\n",
      "train_labels.size(): torch.Size([60000])\n"
     ]
    }
   ],
   "source": [
    "print('train_data.size():',train_data.train_data.size())\n",
    "print('train_labels.size():',train_data.train_labels.size())"
   ]
  },
  {
   "cell_type": "code",
   "execution_count": 27,
   "metadata": {},
   "outputs": [
    {
     "data": {
      "image/png": "[encoded data removed]",
      "text/plain": [
       "<Figure size 432x288 with 1 Axes>"
      ]
     },
     "metadata": {
      "needs_background": "light"
     },
     "output_type": "display_data"
    }
   ],
   "source": [
    "import matplotlib.pyplot as plt\n",
    "plt.imshow(train_data.train_data[0].numpy(),cmap='gray')\n",
    "plt.title('%i' % train_data.train_labels[0])\n",
    "plt.show()"
   ]
  },
  {
   "cell_type": "code",
   "execution_count": 28,
   "metadata": {},
   "outputs": [],
   "source": [
    "# dataloader\n",
    "train_loader = torch.utils.data.DataLoader(dataset=train_data,\n",
    "                                           batch_size=BATCH_SIZE,\n",
    "                                           shuffle = True)"
   ]
  },
  {
   "cell_type": "code",
   "execution_count": 31,
   "metadata": {},
   "outputs": [],
   "source": [
    "# convert test data into Variable, pick 2000 samples to speed up testing\n",
    "test_data = torchvision.datasets.MNIST(root='./mnist/', train=False, transform=torchvision.transforms.ToTensor())\n",
    "test_x = test_data.test_data.type(torch.FloatTensor)[:2000]/255.   # shape (2000, 28, 28) value in range(0,1)\n",
    "test_y = test_data.test_labels.numpy()[:2000]    # covert to numpy array"
   ]
  },
  {
   "cell_type": "code",
   "execution_count": 32,
   "metadata": {},
   "outputs": [
    {
     "name": "stdout",
     "output_type": "stream",
     "text": [
      "test_x.size(): torch.Size([2000, 28, 28])\n",
      "test_y.size(): 2000\n"
     ]
    }
   ],
   "source": [
    "print('test_x.size():',test_x.size())\n",
    "print('test_y.size():',len(test_y))"
   ]
  },
  {
   "cell_type": "code",
   "execution_count": 44,
   "metadata": {},
   "outputs": [],
   "source": [
    "class My_LSTM(nn.Module):\n",
    "    def __init__(self):\n",
    "        super(My_LSTM,self).__init__()\n",
    "        \n",
    "        self.lstm = nn.LSTM(\n",
    "            input_size = INPUT_SIZE,\n",
    "            hidden_size = HIDDEN_SIZE,\n",
    "            num_layers = 1,\n",
    "            batch_first = True\n",
    "        )\n",
    "        \n",
    "        self.out_projection = nn.Linear(HIDDEN_SIZE,10)\n",
    "    \n",
    "    def forward(self,x):\n",
    "        # x.shape (batch_size,time_step,feature_size)\n",
    "        # r_out.shape (batch_size,time_step,feature_size)\n",
    "        # h_n.shape (n_layers,batch_size,hidden_size)\n",
    "        # h_c.shape (n_layers,batch_size,hidden_size)\n",
    "        \n",
    "        r_out,(h_n,h_c) = self.lstm(x,None)\n",
    "        \n",
    "        #print('r_out.size() ',r_out.size()) [64,28,64]\n",
    "        #print('r_out[:,-1,:] size()',r_out[:,-1,:].size()) [64,64]\n",
    "        # choose r_out at the last time step\n",
    "        out = self.out_projection(r_out[:,-1,:])\n",
    "        \n",
    "        return out"
   ]
  },
  {
   "cell_type": "code",
   "execution_count": 45,
   "metadata": {},
   "outputs": [
    {
     "name": "stdout",
     "output_type": "stream",
     "text": [
      "My_LSTM(\n",
      "  (lstm): LSTM(28, 64, batch_first=True)\n",
      "  (out_projection): Linear(in_features=64, out_features=10, bias=True)\n",
      ")\n"
     ]
    }
   ],
   "source": [
    "lstm = My_LSTM()\n",
    "print(lstm)"
   ]
  },
  {
   "cell_type": "code",
   "execution_count": 46,
   "metadata": {},
   "outputs": [
    {
     "name": "stdout",
     "output_type": "stream",
     "text": [
      "Epoch:  0  | train loss : 2.2988  | test accuracy:0.10\n",
      "Epoch:  0  | train loss : 0.7164  | test accuracy:0.75\n",
      "Epoch:  0  | train loss : 0.6076  | test accuracy:0.78\n",
      "Epoch:  0  | train loss : 0.2944  | test accuracy:0.90\n",
      "Epoch:  0  | train loss : 0.1424  | test accuracy:0.91\n",
      "Epoch:  0  | train loss : 0.1521  | test accuracy:0.92\n",
      "Epoch:  0  | train loss : 0.1535  | test accuracy:0.94\n",
      "Epoch:  0  | train loss : 0.2166  | test accuracy:0.93\n",
      "Epoch:  0  | train loss : 0.2239  | test accuracy:0.94\n",
      "Epoch:  0  | train loss : 0.0572  | test accuracy:0.95\n",
      "Epoch:  1  | train loss : 0.0572  | test accuracy:0.96\n",
      "Epoch:  1  | train loss : 0.2013  | test accuracy:0.96\n",
      "Epoch:  1  | train loss : 0.1844  | test accuracy:0.95\n",
      "Epoch:  1  | train loss : 0.0642  | test accuracy:0.96\n",
      "Epoch:  1  | train loss : 0.1748  | test accuracy:0.97\n",
      "Epoch:  1  | train loss : 0.0180  | test accuracy:0.96\n",
      "Epoch:  1  | train loss : 0.1462  | test accuracy:0.95\n",
      "Epoch:  1  | train loss : 0.1074  | test accuracy:0.96\n",
      "Epoch:  1  | train loss : 0.1604  | test accuracy:0.97\n",
      "Epoch:  1  | train loss : 0.0533  | test accuracy:0.96\n"
     ]
    }
   ],
   "source": [
    "# 训练\n",
    "optimizer = torch.optim.Adam(lstm.parameters(),lr=LR)\n",
    "loss_func = nn.CrossEntropyLoss()\n",
    "\n",
    "for epoch in range(EPOCH):\n",
    "    for step,(x,b_y) in enumerate(train_loader):\n",
    "        b_x = x.view(-1,28,28)\n",
    "        \n",
    "        output = lstm(b_x)\n",
    "        loss = loss_func(output,b_y)\n",
    "        optimizer.zero_grad()\n",
    "        loss.backward()\n",
    "        optimizer.step()\n",
    "        \n",
    "        if step % 100 == 0:\n",
    "            test_output = lstm(test_x)\n",
    "            pred_y = torch.max(test_output,1)[1].data.numpy()\n",
    "            accuracy = float((pred_y == test_y).astype(int).sum())/float(test_y.size)\n",
    "            print('Epoch: ',epoch, ' | train loss : %.4f'%loss.data.numpy(),' | test accuracy:%.2f'%accuracy)"
   ]
  },
  {
   "cell_type": "code",
   "execution_count": 36,
   "metadata": {},
   "outputs": [
    {
     "name": "stdout",
     "output_type": "stream",
     "text": [
      "[7 2 1 0 4 1 4 9 5 9] prediction number\n",
      "[7 2 1 0 4 1 4 9 5 9] real number\n"
     ]
    }
   ],
   "source": [
    "# print 10 predictions from test data\n",
    "test_output = lstm(test_x[:10].view(-1, 28, 28))\n",
    "pred_y = torch.max(test_output, 1)[1].data.numpy()\n",
    "print(pred_y, 'prediction number')\n",
    "print(test_y[:10], 'real number')"
   ]
  },
  {
   "cell_type": "code",
   "execution_count": null,
   "metadata": {},
   "outputs": [],
   "source": []
  }
 ],
 "metadata": {
  "kernelspec": {
   "display_name": "Python 3",
   "language": "python",
   "name": "python3"
  },
  "language_info": {
   "codemirror_mode": {
    "name": "ipython",
    "version": 3
   },
   "file_extension": ".py",
   "mimetype": "text/x-python",
   "name": "python",
   "nbconvert_exporter": "python",
   "pygments_lexer": "ipython3",
   "version": "3.6.9"
  }
 },
 "nbformat": 4,
 "nbformat_minor": 2
}
