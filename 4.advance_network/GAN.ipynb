{
 "cells": [
  {
   "cell_type": "code",
   "execution_count": 1,
   "metadata": {},
   "outputs": [],
   "source": [
    "import os\n",
    "import torch\n",
    "import torchvision\n",
    "import torch.nn as nn\n",
    "from torchvision import transforms\n",
    "from torchvision.utils import save_image"
   ]
  },
  {
   "cell_type": "code",
   "execution_count": 2,
   "metadata": {},
   "outputs": [],
   "source": [
    "# device configuration\n",
    "device = torch.device('cuda' if torch.cuda.is_available() else 'cpu')\n",
    "\n",
    "# 超参数\n",
    "latent_size = 64\n",
    "hidden_size = 256\n",
    "image_size = 784\n",
    "num_epoches = 10\n",
    "batch_size = 100\n",
    "sample_dir = 'samples'\n",
    "\n",
    "if not os.path.exists(sample_dir):\n",
    "    os.makedirs(sample_dir)"
   ]
  },
  {
   "cell_type": "code",
   "execution_count": 3,
   "metadata": {},
   "outputs": [],
   "source": [
    "# image process\n",
    "transform = transforms.Compose([\n",
    "                transforms.ToTensor(),\n",
    "                transforms.Normalize(mean=(0.5),   # 3 for RGB channels\n",
    "                                     std=(0.5))])\n",
    "\n",
    "mnist = torchvision.datasets.MNIST('./mnist',train=True,transform=transform,download=True)"
   ]
  },
  {
   "cell_type": "code",
   "execution_count": 4,
   "metadata": {},
   "outputs": [
    {
     "name": "stderr",
     "output_type": "stream",
     "text": [
      "/home/fengjiaxin/fengjiaxin/anaconda3/envs/my-rdkit-env/lib/python3.6/site-packages/torchvision/datasets/mnist.py:53: UserWarning: train_data has been renamed data\n",
      "  warnings.warn(\"train_data has been renamed data\")\n"
     ]
    }
   ],
   "source": [
    "view_data = mnist.train_data.type(torch.FloatTensor)/255."
   ]
  },
  {
   "cell_type": "code",
   "execution_count": 5,
   "metadata": {},
   "outputs": [
    {
     "data": {
      "text/plain": [
       "torch.Size([60000, 28, 28])"
      ]
     },
     "execution_count": 5,
     "metadata": {},
     "output_type": "execute_result"
    }
   ],
   "source": [
    "view_data.size()"
   ]
  },
  {
   "cell_type": "code",
   "execution_count": 6,
   "metadata": {},
   "outputs": [],
   "source": [
    "data_loader = torch.utils.data.DataLoader(dataset = view_data,\n",
    "                                         batch_size = batch_size,\n",
    "                                         shuffle = True)"
   ]
  },
  {
   "cell_type": "code",
   "execution_count": 7,
   "metadata": {},
   "outputs": [
    {
     "data": {
      "text/plain": [
       "<torch.utils.data.dataloader.DataLoader at 0x7f5b5432e358>"
      ]
     },
     "execution_count": 7,
     "metadata": {},
     "output_type": "execute_result"
    }
   ],
   "source": [
    "data_loader"
   ]
  },
  {
   "cell_type": "code",
   "execution_count": 8,
   "metadata": {},
   "outputs": [],
   "source": [
    "# 判别模型\n",
    "D = nn.Sequential(\n",
    "    nn.Linear(image_size,hidden_size),\n",
    "    nn.LeakyReLU(0.2),\n",
    "    nn.Linear(hidden_size,hidden_size),\n",
    "    nn.LeakyReLU(0.2),\n",
    "    nn.Linear(hidden_size,1),\n",
    "    nn.Sigmoid())\n",
    "\n",
    "# 生成模型\n",
    "G = nn.Sequential(\n",
    "    nn.Linear(latent_size,hidden_size),\n",
    "    nn.ReLU(),\n",
    "    nn.Linear(hidden_size,hidden_size),\n",
    "    nn.ReLU(),\n",
    "    nn.Linear(hidden_size,image_size),\n",
    "    nn.Tanh())"
   ]
  },
  {
   "cell_type": "code",
   "execution_count": 9,
   "metadata": {},
   "outputs": [],
   "source": [
    "# device setting\n",
    "D = D.to(device)\n",
    "G = G.to(device)\n",
    "\n",
    "# binary cross entropy \n",
    "criterion = nn.BCELoss()\n",
    "\n",
    "d_optimizer = torch.optim.Adam(D.parameters(),lr=0.0002)\n",
    "g_optimizer = torch.optim.Adam(G.parameters(),lr=0.0002)\n",
    "\n",
    "def denorm(x):\n",
    "    out = (x + 1)/2\n",
    "    return out.clamp(0,1)\n",
    "\n",
    "def reset_grad():\n",
    "    d_optimizer.zero_grad()\n",
    "    g_optimizer.zero_grad()"
   ]
  },
  {
   "cell_type": "code",
   "execution_count": null,
   "metadata": {},
   "outputs": [
    {
     "name": "stdout",
     "output_type": "stream",
     "text": [
      "Epoch 0 , step 199 , d_loss: 0.1324, g_loss: 4.0410 D(x): 0.93,D(G(z)): 0.05\n",
      "Epoch 0 , step 399 , d_loss: 0.3361, g_loss: 5.0757 D(x): 0.86,D(G(z)): 0.13\n",
      "Epoch 0 , step 599 , d_loss: 0.5057, g_loss: 2.8876 D(x): 0.79,D(G(z)): 0.20\n",
      "Epoch 1 , step 199 , d_loss: 0.2159, g_loss: 3.4477 D(x): 0.89,D(G(z)): 0.08\n",
      "Epoch 1 , step 399 , d_loss: 0.8302, g_loss: 2.4512 D(x): 0.70,D(G(z)): 0.22\n",
      "Epoch 1 , step 599 , d_loss: 1.4564, g_loss: 3.0170 D(x): 0.64,D(G(z)): 0.33\n",
      "Epoch 2 , step 199 , d_loss: 0.3846, g_loss: 3.2894 D(x): 0.87,D(G(z)): 0.19\n",
      "Epoch 2 , step 399 , d_loss: 0.3747, g_loss: 2.7805 D(x): 0.87,D(G(z)): 0.16\n",
      "Epoch 2 , step 599 , d_loss: 0.8808, g_loss: 1.8891 D(x): 0.71,D(G(z)): 0.33\n",
      "Epoch 3 , step 199 , d_loss: 1.1903, g_loss: 1.9403 D(x): 0.64,D(G(z)): 0.32\n",
      "Epoch 3 , step 399 , d_loss: 0.2817, g_loss: 2.3429 D(x): 0.92,D(G(z)): 0.14\n",
      "Epoch 3 , step 599 , d_loss: 0.0807, g_loss: 3.5722 D(x): 0.98,D(G(z)): 0.05\n",
      "Epoch 4 , step 199 , d_loss: 0.1840, g_loss: 4.9962 D(x): 0.95,D(G(z)): 0.06\n"
     ]
    }
   ],
   "source": [
    "# 训练\n",
    "total_step = len(data_loader)\n",
    "for epoch in range(num_epoches):\n",
    "    for i,images in enumerate(data_loader):\n",
    "        # (batch_size , 784)\n",
    "        images = images.reshape(batch_size,-1).to(device)\n",
    "        #print(images)\n",
    "        # create the labels which are later used as input for the bce loss\n",
    "        real_labels = torch.ones(batch_size,1).to(device)\n",
    "        fake_labels = torch.zeros(batch_size,1).to(device)\n",
    "        \n",
    "        # =========================================== #\n",
    "        #            train the discriminator          # \n",
    "        # =========================================== #\n",
    "        \n",
    "        # compute bce_loss using real images where bce_loss(x,y): - y * log(D(x)) - (1-y) * log(1-D(x))\n",
    "        # second term of the loss is always zero since real_labels == 1\n",
    "        outputs = D(images)\n",
    "        #print('sssssss')\n",
    "        d_loss_real = criterion(outputs,real_labels)\n",
    "        read_score = outputs\n",
    "        \n",
    "        # compute bce_loss using faking images\n",
    "        # first term of the loss is always zero since real_labels == 1\n",
    "        z = torch.randn(batch_size,latent_size).to(device)\n",
    "        fake_images = G(z)\n",
    "        outputs = D(fake_images)\n",
    "        d_loss_fake = criterion(outputs,fake_labels)\n",
    "        fake_score = outputs\n",
    "        \n",
    "        # backprop and optimize\n",
    "        d_loss = d_loss_real + d_loss_fake\n",
    "        reset_grad()\n",
    "        d_loss.backward()\n",
    "        d_optimizer.step()\n",
    "        \n",
    "        # ============================================= #\n",
    "        #               train the generator             #\n",
    "        # ============================================= #\n",
    "        \n",
    "        # compute loss with fake images\n",
    "        z = torch.randn(batch_size,latent_size).to(device)\n",
    "        fake_images = G(z)\n",
    "        outputs = D(fake_images)\n",
    "        \n",
    "        # we train G to minimize log(1-D(G(z))) == max log(D(G(z))) == min -log(D(G(z)))\n",
    "        # use real labels ,the second term of the loss is zero\n",
    "        g_loss = criterion(outputs,real_labels)\n",
    "        \n",
    "        # backward and optimize\n",
    "        reset_grad()\n",
    "        g_loss.backward()\n",
    "        g_optimizer.step()\n",
    "        \n",
    "        if (i + 1) % 200 == 0:\n",
    "            print('Epoch %d , step %d , d_loss: %.4f, g_loss: %.4f D(x): %.2f,D(G(z)): %.2f'%(epoch,i,d_loss.item(),g_loss.item(),read_score.mean().item(),fake_score.mean().item()))\n",
    "        # Save real images\n",
    "    if (epoch+1) == 1:\n",
    "        images = images.reshape(images.size(0), 1, 28, 28)\n",
    "        save_image(denorm(images), os.path.join(sample_dir, 'real_images.png'))\n",
    "    \n",
    "    # Save sampled images\n",
    "    fake_images = fake_images.reshape(fake_images.size(0), 1, 28, 28)\n",
    "    save_image(denorm(fake_images), os.path.join(sample_dir, 'fake_images-{}.png'.format(epoch+1)))\n",
    "\n",
    "# Save the model checkpoints \n",
    "torch.save(G.state_dict(), 'G.ckpt')\n",
    "torch.save(D.state_dict(), 'D.ckpt')"
   ]
  },
  {
   "cell_type": "code",
   "execution_count": null,
   "metadata": {},
   "outputs": [],
   "source": []
  }
 ],
 "metadata": {
  "kernelspec": {
   "display_name": "Python 3",
   "language": "python",
   "name": "python3"
  },
  "language_info": {
   "codemirror_mode": {
    "name": "ipython",
    "version": 3
   },
   "file_extension": ".py",
   "mimetype": "text/x-python",
   "name": "python",
   "nbconvert_exporter": "python",
   "pygments_lexer": "ipython3",
   "version": "3.6.9"
  }
 },
 "nbformat": 4,
 "nbformat_minor": 2
}
